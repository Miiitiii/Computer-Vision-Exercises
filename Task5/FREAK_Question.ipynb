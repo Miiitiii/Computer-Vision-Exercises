{
  "nbformat": 4,
  "nbformat_minor": 0,
  "metadata": {
    "colab": {
      "provenance": []
    },
    "kernelspec": {
      "name": "python3",
      "display_name": "Python 3"
    },
    "language_info": {
      "name": "python"
    }
  },
  "cells": [
    {
      "cell_type": "code",
      "execution_count": null,
      "metadata": {
        "id": "a_3H3hA2tnqZ"
      },
      "outputs": [],
      "source": [
        "import cv2 \n",
        "import matplotlib.pyplot as plt\n",
        "%matplotlib inline\n",
        "import numpy as np\n",
        "from google.colab.patches import cv2_imshow\n",
        "import random\n",
        "import time"
      ]
    },
    {
      "cell_type": "code",
      "source": [
        "def load_data(image):\n",
        "  img = cv2.imread(image , 1)\n",
        "  gray= cv2.cvtColor(img,cv2.COLOR_BGR2GRAY)\n",
        "  return img , gray"
      ],
      "metadata": {
        "id": "WgnPFpDGtrXd"
      },
      "execution_count": null,
      "outputs": []
    },
    {
      "cell_type": "code",
      "source": [
        "def rotate_image(image , angle , scale):\n",
        "  # Rotating the image after Warp\n",
        "  center = (image.shape[1]//2, image.shape[0]//2)\n",
        "  rot_mat = cv2.getRotationMatrix2D( center, angle, scale )\n",
        "  warp_rotate_dst = cv2.warpAffine(image, rot_mat, (image.shape[1], image.shape[0]))\n",
        "  return warp_rotate_dst"
      ],
      "metadata": {
        "id": "D313f7ectsgT"
      },
      "execution_count": null,
      "outputs": []
    },
    {
      "cell_type": "code",
      "source": [
        "def create_rotated_images(image , gray):\n",
        "  random_angle = random.randint(0,360)\n",
        "  rotated_image = rotate_image(image , random_angle , 0.5)\n",
        "  rotated_gray_image = rotate_image(gray , random_angle , 0.5)\n",
        "\n",
        "  return rotated_image , rotated_gray_image , random_angle"
      ],
      "metadata": {
        "id": "kQRt1LUatttS"
      },
      "execution_count": null,
      "outputs": []
    },
    {
      "cell_type": "code",
      "source": [
        "def operate_FREAK(image , gray):\n",
        "  # Applying FREAK detector\n",
        "  freak = cv2.xfeatures2d.FREAK_create()\n",
        "  fast = cv2.xfeatures2d.SIFT_create()\n",
        "  # Find the keypoints\n",
        "  keypoints = fast.detect(gray, None)\n",
        "  kp , des = freak.compute(gray, keypoints)\n",
        "\n",
        "  # Marking the keypoint on the image using circles\n",
        "  img=cv2.drawKeypoints(gray ,\n",
        "                        kp ,\n",
        "                        image ,\n",
        "                        flags=cv2.DRAW_MATCHES_FLAGS_DRAW_RICH_KEYPOINTS)\n",
        "  \n",
        "  return img , kp , des"
      ],
      "metadata": {
        "id": "DG8lPFEgtvNl"
      },
      "execution_count": null,
      "outputs": []
    },
    {
      "cell_type": "code",
      "source": [
        "def find_matches(des_main , des_rotated):\n",
        "  FLANN_INDEX_KDTREE = 1\n",
        "  index_params = dict(algorithm = FLANN_INDEX_KDTREE, trees = 5)\n",
        "  search_params = dict(checks = 50)\n",
        "\n",
        "  flann = cv2.FlannBasedMatcher(index_params, search_params)\n",
        "  matches = flann.knnMatch(des_main,des_rotated,k=2)\n",
        "  # store all the good matches as per Lowe's ratio test.\n",
        "  good = []\n",
        "  for m,n in matches:\n",
        "      if m.distance < 0.5*n.distance:\n",
        "          good.append(m)\n",
        "\n",
        "  return good , len(matches)"
      ],
      "metadata": {
        "id": "ucx_yllhtwlR"
      },
      "execution_count": null,
      "outputs": []
    },
    {
      "cell_type": "code",
      "source": [
        "def operate(img):\n",
        "  image , gray = load_data(img)\n",
        "\n",
        "  rotated_image , rotated_gray_image , angle = create_rotated_images(image , gray)\n",
        "\n",
        "  print(\"Rotate angle is :\" , angle)\n",
        "  cv2_imshow(rotated_image)\n",
        "\n",
        "\n",
        "  start = time.time()\n",
        "  KP_main_image , KP_main , des_main = operate_FREAK(image.copy() , gray.copy())\n",
        "  KP_rotated_image, KP_rotated , des_rotated = operate_FREAK(rotated_image.copy() , rotated_gray_image.copy())\n",
        "  des_main = des_main.astype('float32')\n",
        "  des_rotated = des_rotated.astype('float32')\n",
        "\n",
        "\n",
        "\n",
        "  good , matches = find_matches(des_main , des_rotated)\n",
        "\n",
        "  MIN_MATCH_COUNT = 10\n",
        "  if len(good)>MIN_MATCH_COUNT:\n",
        "      src_pts = np.float32([ KP_main[m.queryIdx].pt for m in good ]).reshape(-1,1,2)\n",
        "      dst_pts = np.float32([ KP_rotated[m.trainIdx].pt for m in good ]).reshape(-1,1,2)\n",
        "      M, mask = cv2.findHomography(src_pts, dst_pts, cv2.RANSAC,5.0)\n",
        "      matchesMask = mask.ravel().tolist()\n",
        "      h,w = rotated_gray_image.shape\n",
        "      pts = np.float32([ [0,0],[0,h-1],[w-1,h-1],[w-1,0] ]).reshape(-1,1,2)\n",
        "      dst = cv2.perspectiveTransform(pts,M)\n",
        "      img2 = cv2.polylines(rotated_gray_image,[np.int32(dst)],True,255,3, cv2.LINE_AA)\n",
        "  else:\n",
        "      print( \"Not enough matches are found - {}/{}\".format(len(good), MIN_MATCH_COUNT) )\n",
        "      matchesMask = None\n",
        "\n",
        "\n",
        "  draw_params = dict(matchColor = (0,0,255), # draw matches in green color\n",
        "                   singlePointColor = None,\n",
        "                   matchesMask = matchesMask, # draw only inliers\n",
        "                   flags = 2)\n",
        "  \n",
        "  img3 = cv2.drawMatches(gray,KP_main,rotated_gray_image,KP_rotated,good,None,**draw_params)\n",
        "  end = time.time() - start\n",
        "  cv2_imshow(img3)\n",
        "\n",
        "  if len(good) > MIN_MATCH_COUNT:\n",
        "    new_M, new_mask = cv2.findHomography(dst_pts,src_pts)\n",
        "    out = cv2.warpPerspective(rotated_image,new_M,(rotated_image.shape[1], rotated_image.shape[0]),flags=cv2.INTER_LINEAR)\n",
        "    cv2_imshow(out)\n",
        "\n",
        "  print(\"Size of all matches :\" , matches)\n",
        "  print(\"Size of best matches : \" , len(good))\n",
        "  print(\"SIFT time : \" , end)\n",
        "\n"
      ],
      "metadata": {
        "id": "OROauf0ltyF5"
      },
      "execution_count": null,
      "outputs": []
    },
    {
      "cell_type": "code",
      "source": [
        "operate(\"GOW.jpg\")"
      ],
      "metadata": {
        "id": "9s0XP8lttzdw"
      },
      "execution_count": null,
      "outputs": []
    },
    {
      "cell_type": "code",
      "source": [
        "operate(\"GOW.jpg\")"
      ],
      "metadata": {
        "id": "KIWFXcWbt9RX"
      },
      "execution_count": null,
      "outputs": []
    },
    {
      "cell_type": "code",
      "source": [
        "operate(\"GOW.jpg\")"
      ],
      "metadata": {
        "id": "rTOOg-eYvLkn"
      },
      "execution_count": null,
      "outputs": []
    },
    {
      "cell_type": "code",
      "source": [],
      "metadata": {
        "id": "GEuwASlWvLzt"
      },
      "execution_count": null,
      "outputs": []
    }
  ]
}