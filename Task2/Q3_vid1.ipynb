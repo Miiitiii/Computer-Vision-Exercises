{
  "nbformat": 4,
  "nbformat_minor": 0,
  "metadata": {
    "colab": {
      "provenance": [],
      "collapsed_sections": []
    },
    "kernelspec": {
      "name": "python3",
      "display_name": "Python 3"
    },
    "language_info": {
      "name": "python"
    }
  },
  "cells": [
    {
      "cell_type": "code",
      "source": [
        "#importing some useful packages\n",
        "import matplotlib.pyplot as plt\n",
        "import numpy as np\n",
        "import cv2"
      ],
      "metadata": {
        "id": "KU-NP4WayB_3"
      },
      "execution_count": 4,
      "outputs": []
    },
    {
      "cell_type": "code",
      "source": [
        "from google.colab.patches import cv2_imshow"
      ],
      "metadata": {
        "id": "iUkdUxCt69VL"
      },
      "execution_count": 5,
      "outputs": []
    },
    {
      "cell_type": "code",
      "source": [
        "def process_image(image, \n",
        "                  kernel_size = 5, \n",
        "                  low_threshold = 100, high_threshold = 250, \n",
        "                  rho = 1, theta = np.pi/180, threshold = 30,\n",
        "                  min_line_len = 100, max_line_gap = 200 , past_line_mean = []): \n",
        "    flag = np.array(past_line_mean)\n",
        "\n",
        "\n",
        "    #Change Image to GrayScale\n",
        "    gray = cv2.cvtColor(image, cv2.COLOR_RGB2GRAY)\n",
        "    \n",
        "    #Use Gaussian Filter\n",
        "    blur_gray = cv2.GaussianBlur(gray, (kernel_size, kernel_size), 0)\n",
        "\n",
        "    #Use Canny with Image Smoothing\n",
        "    edges = cv2.Canny(blur_gray, low_threshold, high_threshold)\n",
        "\n",
        "    #Find Region of Interest\n",
        "    vertices = np.array([[(0,image.shape[0]),(450, 310), (490, 310), (image.shape[1],image.shape[0])]], dtype=np.int32)\n",
        "    mask = np.zeros_like(edges)   \n",
        "    ignore_mask_color = 255 \n",
        "    cv2.fillPoly(mask, vertices, ignore_mask_color)\n",
        "    masked_image = cv2.bitwise_and(edges, mask)\n",
        "\n",
        "    #Use HoughLinesP\n",
        "    img = masked_image.copy()\n",
        "\n",
        "    lines = cv2.HoughLinesP(masked_image, rho, theta, threshold, minLineLength=min_line_len, maxLineGap=max_line_gap)\n",
        "    for line in lines:\n",
        "        x1, y1, x2, y2 = line[0]\n",
        "        cv2.line(img, (x1, y1), (x2, y2), (255, 0, 0), 3)\n",
        "\n",
        "    #Calculate Means\n",
        "    line_img = np.zeros((masked_image.shape[0], masked_image.shape[1], 3), dtype=np.uint8)\n",
        "\n",
        "    color=[0, 0, 255]\n",
        "    thickness=5\n",
        "\n",
        "    x_bottom_pos = []\n",
        "    x_upperr_pos = []\n",
        "    x_bottom_neg = []\n",
        "    x_upperr_neg = []\n",
        "\n",
        "    y_bottom = 540\n",
        "    y_upperr = 315\n",
        "\n",
        "    slope = 0\n",
        "    b = 0\n",
        "\n",
        "    for line in lines:\n",
        "        for x1,y1,x2,y2 in line:\n",
        "            #test and filter values to slope\n",
        "            if ((y2-y1)/(x2-x1)) > 0 :\n",
        "                \n",
        "                slope = ((y2-y1)/(x2-x1))\n",
        "                b = y1 - slope*x1\n",
        "                \n",
        "                x_bottom_pos.append((y_bottom - b)/slope)\n",
        "                x_upperr_pos.append((y_upperr - b)/slope)\n",
        "                                      \n",
        "            elif ((y2-y1)/(x2-x1)) < 0:\n",
        "            \n",
        "                slope = ((y2-y1)/(x2-x1))\n",
        "                b = y1 - slope*x1\n",
        "                \n",
        "                x_bottom_neg.append((y_bottom - b)/slope)\n",
        "                x_upperr_neg.append((y_upperr - b)/slope)\n",
        "\n",
        "    if not x_bottom_pos or not x_upperr_pos:\n",
        "      pos_side = past_line_mean[0]\n",
        "    else :\n",
        "      pos_side = [int(np.mean(x_bottom_pos)), int(np.mean(y_bottom)), int(np.mean(x_upperr_pos)), int(np.mean(y_upperr))]\n",
        "\n",
        "    if not x_bottom_neg or not x_upperr_neg:\n",
        "      neg_side = past_line_mean[1]\n",
        "    else :\n",
        "      neg_side = [int(np.mean(x_bottom_neg)), int(np.mean(y_bottom)), int(np.mean(x_upperr_neg)), int(np.mean(y_upperr))]\n",
        "\n",
        "    if flag.any() :\n",
        "      pos_side = [int(np.mean([pos_side[0] , past_line_mean[0][0]])) , int(np.mean(y_bottom)) , int(np.mean([pos_side[2] , past_line_mean[0][2]])) , int(np.mean(y_upperr))]\n",
        "      neg_side = [int(np.mean([neg_side[0] , past_line_mean[1][0]])) , int(np.mean(y_bottom)) , int(np.mean([neg_side[2] , past_line_mean[1][2]])) , int(np.mean(y_upperr))]\n",
        "\n",
        "    #creating a new 2d array with means\n",
        "    lines_mean = np.array([pos_side , neg_side])\n",
        "\n",
        "\n",
        "    #Drawing the lines\n",
        "    for i in range(len(lines_mean)):\n",
        "        cv2.line(line_img, (lines_mean[i,0], lines_mean[i,1]), (lines_mean[i,2], lines_mean[i,3]), color, thickness)\n",
        "\n",
        "    # initial_img * α + img * β + λ\n",
        "    lines_edges = cv2.addWeighted(image, 0.8, line_img, 1., 0)\n",
        "    \n",
        "    return lines_edges, lines_mean"
      ],
      "metadata": {
        "id": "Ru6nkGbA0Ihi"
      },
      "execution_count": 6,
      "outputs": []
    },
    {
      "cell_type": "code",
      "source": [
        "video_cap = cv2.VideoCapture(\"vid1.mp4\")"
      ],
      "metadata": {
        "id": "JhXo63DuFgRo"
      },
      "execution_count": 7,
      "outputs": []
    },
    {
      "cell_type": "code",
      "source": [
        "fps = video_cap.get(cv2.CAP_PROP_FPS)\n",
        "height = int(video_cap.get(cv2.CAP_PROP_FRAME_HEIGHT))\n",
        "width = int(video_cap.get(cv2.CAP_PROP_FRAME_WIDTH))\n",
        "FOURCC = cv2.VideoWriter_fourcc(*'MP4V')"
      ],
      "metadata": {
        "id": "YlCWI22j7okM"
      },
      "execution_count": 8,
      "outputs": []
    },
    {
      "cell_type": "code",
      "source": [
        "print(fps , height , width , FOURCC)"
      ],
      "metadata": {
        "colab": {
          "base_uri": "https://localhost:8080/"
        },
        "id": "YaxVpyMPKN3w",
        "outputId": "775cca2a-2fe5-4632-86e8-2d67785a0e3e"
      },
      "execution_count": 9,
      "outputs": [
        {
          "output_type": "stream",
          "name": "stdout",
          "text": [
            "25.0 540 960 1446269005\n"
          ]
        }
      ]
    },
    {
      "cell_type": "code",
      "source": [
        "frames = []\n",
        "while True:\n",
        "    success, frame = video_cap.read()\n",
        "    if success:\n",
        "      frames.append(frame)\n",
        "    else:\n",
        "        break\n",
        "video_cap.release()\n",
        "cv2.destroyAllWindows()"
      ],
      "metadata": {
        "id": "Bn30SyQc7tan"
      },
      "execution_count": 10,
      "outputs": []
    },
    {
      "cell_type": "code",
      "source": [
        "out = cv2.VideoWriter('vid1_line_detected.mp4', int(FOURCC), fps, (width,height))"
      ],
      "metadata": {
        "id": "yRw74hRi-kWQ"
      },
      "execution_count": 11,
      "outputs": []
    },
    {
      "cell_type": "code",
      "source": [
        "lines_mean = []\n",
        "for i , image in enumerate(frames):\n",
        "  # print(str(i))\n",
        "  img , lines_mean = process_image(image , past_line_mean=lines_mean)\n",
        "  out.write(img)\n",
        "out.release()"
      ],
      "metadata": {
        "id": "u-0-35Mp-nFm"
      },
      "execution_count": 12,
      "outputs": []
    },
    {
      "cell_type": "code",
      "source": [],
      "metadata": {
        "id": "CW_LU8m8Jbtv"
      },
      "execution_count": null,
      "outputs": []
    }
  ]
}